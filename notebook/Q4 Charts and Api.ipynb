{
 "cells": [
  {
   "cell_type": "markdown",
   "id": "vulnerable-photographer",
   "metadata": {},
   "source": [
    "Your team decided to design a dashboard to display the statistic of COVID19 cases. You are tasked to display one of the components of the dashboard which is to display a visualisation representation of number of COVID19 cases in Singapore over time.\n",
    "\n",
    "Your team decided to use the public data from https://documenter.getpostman.com/view/10808728/SzS8rjbc#b07f97ba-24f4-4ebe-ad71-97fa35f3b683.\n",
    "\n",
    "Display a graph to show the number cases in Singapore over time using the APIs from https://covid19api.com/."
   ]
  },
  {
   "cell_type": "code",
   "execution_count": 1,
   "id": "blocked-andrew",
   "metadata": {},
   "outputs": [],
   "source": [
    "import requests"
   ]
  },
  {
   "cell_type": "markdown",
   "id": "falling-wallet",
   "metadata": {},
   "source": [
    "### Check if singapore exist"
   ]
  },
  {
   "cell_type": "code",
   "execution_count": 2,
   "id": "opening-thong",
   "metadata": {},
   "outputs": [],
   "source": [
    "r = requests.get(\"https://api.covid19api.com/countries\")"
   ]
  },
  {
   "cell_type": "code",
   "execution_count": 3,
   "id": "linear-crazy",
   "metadata": {},
   "outputs": [],
   "source": [
    "r_json = r.json()"
   ]
  },
  {
   "cell_type": "code",
   "execution_count": 4,
   "id": "spoken-network",
   "metadata": {},
   "outputs": [
    {
     "data": {
      "text/plain": [
       "[{'Country': 'Singapore', 'Slug': 'singapore', 'ISO2': 'SG'}]"
      ]
     },
     "execution_count": 4,
     "metadata": {},
     "output_type": "execute_result"
    }
   ],
   "source": [
    "[i for i in r_json if i[\"Country\"] == \"Singapore\"]"
   ]
  },
  {
   "cell_type": "markdown",
   "id": "polish-supervisor",
   "metadata": {},
   "source": [
    "### Get all covid cases from Singapore"
   ]
  },
  {
   "cell_type": "code",
   "execution_count": 5,
   "id": "through-senior",
   "metadata": {},
   "outputs": [],
   "source": [
    "r = requests.get(\n",
    "        \"https://api.covid19api.com/country/Singapore/status/confirmed\"\n",
    ")"
   ]
  },
  {
   "cell_type": "code",
   "execution_count": 6,
   "id": "sealed-asthma",
   "metadata": {},
   "outputs": [],
   "source": [
    "covid_cases_lst = r.json()"
   ]
  },
  {
   "cell_type": "markdown",
   "id": "infinite-dating",
   "metadata": {},
   "source": [
    "### Plot a graph to show number of cases in Singapore overtime "
   ]
  },
  {
   "cell_type": "code",
   "execution_count": 7,
   "id": "convertible-cathedral",
   "metadata": {},
   "outputs": [],
   "source": [
    "import pandas as pd"
   ]
  },
  {
   "cell_type": "code",
   "execution_count": 8,
   "id": "copyrighted-entity",
   "metadata": {},
   "outputs": [],
   "source": [
    "covid_cases_df = pd.DataFrame(covid_cases_lst)"
   ]
  },
  {
   "cell_type": "code",
   "execution_count": 9,
   "id": "anticipated-marathon",
   "metadata": {},
   "outputs": [
    {
     "data": {
      "text/plain": [
       "confirmed    403\n",
       "Name: Status, dtype: int64"
      ]
     },
     "execution_count": 9,
     "metadata": {},
     "output_type": "execute_result"
    }
   ],
   "source": [
    "covid_cases_df[\"Status\"].value_counts() "
   ]
  },
  {
   "cell_type": "markdown",
   "id": "enormous-fireplace",
   "metadata": {},
   "source": [
    "include only confirmed cases "
   ]
  },
  {
   "cell_type": "code",
   "execution_count": 10,
   "id": "frank-canon",
   "metadata": {},
   "outputs": [],
   "source": [
    "from dateutil import parser"
   ]
  },
  {
   "cell_type": "code",
   "execution_count": 11,
   "id": "accompanied-candle",
   "metadata": {},
   "outputs": [
    {
     "data": {
      "text/html": [
       "<div>\n",
       "<style scoped>\n",
       "    .dataframe tbody tr th:only-of-type {\n",
       "        vertical-align: middle;\n",
       "    }\n",
       "\n",
       "    .dataframe tbody tr th {\n",
       "        vertical-align: top;\n",
       "    }\n",
       "\n",
       "    .dataframe thead th {\n",
       "        text-align: right;\n",
       "    }\n",
       "</style>\n",
       "<table border=\"1\" class=\"dataframe\">\n",
       "  <thead>\n",
       "    <tr style=\"text-align: right;\">\n",
       "      <th></th>\n",
       "      <th>Country</th>\n",
       "      <th>CountryCode</th>\n",
       "      <th>Province</th>\n",
       "      <th>City</th>\n",
       "      <th>CityCode</th>\n",
       "      <th>Lat</th>\n",
       "      <th>Lon</th>\n",
       "      <th>Cases</th>\n",
       "      <th>Status</th>\n",
       "      <th>Date</th>\n",
       "    </tr>\n",
       "  </thead>\n",
       "  <tbody>\n",
       "    <tr>\n",
       "      <th>0</th>\n",
       "      <td>Singapore</td>\n",
       "      <td>SG</td>\n",
       "      <td></td>\n",
       "      <td></td>\n",
       "      <td></td>\n",
       "      <td>1.35</td>\n",
       "      <td>103.82</td>\n",
       "      <td>0</td>\n",
       "      <td>confirmed</td>\n",
       "      <td>2020-01-22T00:00:00Z</td>\n",
       "    </tr>\n",
       "    <tr>\n",
       "      <th>1</th>\n",
       "      <td>Singapore</td>\n",
       "      <td>SG</td>\n",
       "      <td></td>\n",
       "      <td></td>\n",
       "      <td></td>\n",
       "      <td>1.35</td>\n",
       "      <td>103.82</td>\n",
       "      <td>1</td>\n",
       "      <td>confirmed</td>\n",
       "      <td>2020-01-23T00:00:00Z</td>\n",
       "    </tr>\n",
       "    <tr>\n",
       "      <th>2</th>\n",
       "      <td>Singapore</td>\n",
       "      <td>SG</td>\n",
       "      <td></td>\n",
       "      <td></td>\n",
       "      <td></td>\n",
       "      <td>1.35</td>\n",
       "      <td>103.82</td>\n",
       "      <td>3</td>\n",
       "      <td>confirmed</td>\n",
       "      <td>2020-01-24T00:00:00Z</td>\n",
       "    </tr>\n",
       "    <tr>\n",
       "      <th>3</th>\n",
       "      <td>Singapore</td>\n",
       "      <td>SG</td>\n",
       "      <td></td>\n",
       "      <td></td>\n",
       "      <td></td>\n",
       "      <td>1.35</td>\n",
       "      <td>103.82</td>\n",
       "      <td>3</td>\n",
       "      <td>confirmed</td>\n",
       "      <td>2020-01-25T00:00:00Z</td>\n",
       "    </tr>\n",
       "    <tr>\n",
       "      <th>4</th>\n",
       "      <td>Singapore</td>\n",
       "      <td>SG</td>\n",
       "      <td></td>\n",
       "      <td></td>\n",
       "      <td></td>\n",
       "      <td>1.35</td>\n",
       "      <td>103.82</td>\n",
       "      <td>4</td>\n",
       "      <td>confirmed</td>\n",
       "      <td>2020-01-26T00:00:00Z</td>\n",
       "    </tr>\n",
       "    <tr>\n",
       "      <th>...</th>\n",
       "      <td>...</td>\n",
       "      <td>...</td>\n",
       "      <td>...</td>\n",
       "      <td>...</td>\n",
       "      <td>...</td>\n",
       "      <td>...</td>\n",
       "      <td>...</td>\n",
       "      <td>...</td>\n",
       "      <td>...</td>\n",
       "      <td>...</td>\n",
       "    </tr>\n",
       "    <tr>\n",
       "      <th>398</th>\n",
       "      <td>Singapore</td>\n",
       "      <td>SG</td>\n",
       "      <td></td>\n",
       "      <td></td>\n",
       "      <td></td>\n",
       "      <td>1.35</td>\n",
       "      <td>103.82</td>\n",
       "      <td>59883</td>\n",
       "      <td>confirmed</td>\n",
       "      <td>2021-02-23T00:00:00Z</td>\n",
       "    </tr>\n",
       "    <tr>\n",
       "      <th>399</th>\n",
       "      <td>Singapore</td>\n",
       "      <td>SG</td>\n",
       "      <td></td>\n",
       "      <td></td>\n",
       "      <td></td>\n",
       "      <td>1.35</td>\n",
       "      <td>103.82</td>\n",
       "      <td>59890</td>\n",
       "      <td>confirmed</td>\n",
       "      <td>2021-02-24T00:00:00Z</td>\n",
       "    </tr>\n",
       "    <tr>\n",
       "      <th>400</th>\n",
       "      <td>Singapore</td>\n",
       "      <td>SG</td>\n",
       "      <td></td>\n",
       "      <td></td>\n",
       "      <td></td>\n",
       "      <td>1.35</td>\n",
       "      <td>103.82</td>\n",
       "      <td>59900</td>\n",
       "      <td>confirmed</td>\n",
       "      <td>2021-02-25T00:00:00Z</td>\n",
       "    </tr>\n",
       "    <tr>\n",
       "      <th>401</th>\n",
       "      <td>Singapore</td>\n",
       "      <td>SG</td>\n",
       "      <td></td>\n",
       "      <td></td>\n",
       "      <td></td>\n",
       "      <td>1.35</td>\n",
       "      <td>103.82</td>\n",
       "      <td>59913</td>\n",
       "      <td>confirmed</td>\n",
       "      <td>2021-02-26T00:00:00Z</td>\n",
       "    </tr>\n",
       "    <tr>\n",
       "      <th>402</th>\n",
       "      <td>Singapore</td>\n",
       "      <td>SG</td>\n",
       "      <td></td>\n",
       "      <td></td>\n",
       "      <td></td>\n",
       "      <td>1.35</td>\n",
       "      <td>103.82</td>\n",
       "      <td>59913</td>\n",
       "      <td>confirmed</td>\n",
       "      <td>2021-02-27T00:00:00Z</td>\n",
       "    </tr>\n",
       "  </tbody>\n",
       "</table>\n",
       "<p>403 rows × 10 columns</p>\n",
       "</div>"
      ],
      "text/plain": [
       "       Country CountryCode Province City CityCode   Lat     Lon  Cases  \\\n",
       "0    Singapore          SG                         1.35  103.82      0   \n",
       "1    Singapore          SG                         1.35  103.82      1   \n",
       "2    Singapore          SG                         1.35  103.82      3   \n",
       "3    Singapore          SG                         1.35  103.82      3   \n",
       "4    Singapore          SG                         1.35  103.82      4   \n",
       "..         ...         ...      ...  ...      ...   ...     ...    ...   \n",
       "398  Singapore          SG                         1.35  103.82  59883   \n",
       "399  Singapore          SG                         1.35  103.82  59890   \n",
       "400  Singapore          SG                         1.35  103.82  59900   \n",
       "401  Singapore          SG                         1.35  103.82  59913   \n",
       "402  Singapore          SG                         1.35  103.82  59913   \n",
       "\n",
       "        Status                  Date  \n",
       "0    confirmed  2020-01-22T00:00:00Z  \n",
       "1    confirmed  2020-01-23T00:00:00Z  \n",
       "2    confirmed  2020-01-24T00:00:00Z  \n",
       "3    confirmed  2020-01-25T00:00:00Z  \n",
       "4    confirmed  2020-01-26T00:00:00Z  \n",
       "..         ...                   ...  \n",
       "398  confirmed  2021-02-23T00:00:00Z  \n",
       "399  confirmed  2021-02-24T00:00:00Z  \n",
       "400  confirmed  2021-02-25T00:00:00Z  \n",
       "401  confirmed  2021-02-26T00:00:00Z  \n",
       "402  confirmed  2021-02-27T00:00:00Z  \n",
       "\n",
       "[403 rows x 10 columns]"
      ]
     },
     "execution_count": 11,
     "metadata": {},
     "output_type": "execute_result"
    }
   ],
   "source": [
    "covid_cases_df"
   ]
  },
  {
   "cell_type": "code",
   "execution_count": 12,
   "id": "integral-fiber",
   "metadata": {},
   "outputs": [],
   "source": [
    "def get_timestamp_tz(timestamp_str):\n",
    "    \"\"\"\n",
    "    given timestamp in string, convert it back to datetime given format\n",
    "    \"\"\"\n",
    "    timestamp = parser.parse(timestamp_str)\n",
    "    return timestamp"
   ]
  },
  {
   "cell_type": "code",
   "execution_count": 13,
   "id": "super-shower",
   "metadata": {},
   "outputs": [],
   "source": [
    "covid_cases_df[\"Date\"] = covid_cases_df[\"Date\"].apply(lambda x: get_timestamp_tz(x) )"
   ]
  },
  {
   "cell_type": "code",
   "execution_count": 14,
   "id": "human-message",
   "metadata": {},
   "outputs": [
    {
     "data": {
      "text/plain": [
       "0      1\n",
       "1      1\n",
       "2      1\n",
       "3      1\n",
       "4      1\n",
       "      ..\n",
       "398    2\n",
       "399    2\n",
       "400    2\n",
       "401    2\n",
       "402    2\n",
       "Name: Date, Length: 403, dtype: int64"
      ]
     },
     "execution_count": 14,
     "metadata": {},
     "output_type": "execute_result"
    }
   ],
   "source": [
    "covid_cases_df[\"Date\"].apply(lambda x: x.month)"
   ]
  },
  {
   "cell_type": "code",
   "execution_count": 15,
   "id": "consolidated-mongolia",
   "metadata": {},
   "outputs": [
    {
     "data": {
      "text/plain": [
       "<AxesSubplot:xlabel='Date'>"
      ]
     },
     "execution_count": 15,
     "metadata": {},
     "output_type": "execute_result"
    },
    {
     "data": {
      "image/png": "[encoded data removed]",
      "text/plain": [
       "<Figure size 1080x432 with 1 Axes>"
      ]
     },
     "metadata": {
      "needs_background": "light"
     },
     "output_type": "display_data"
    }
   ],
   "source": [
    "covid_cases_df.plot(x=\"Date\", y=\"Cases\", figsize=(15,6))"
   ]
  },
  {
   "cell_type": "markdown",
   "id": "conditional-beginning",
   "metadata": {},
   "source": [
    "Rising trend observed in the number of covid cases, where the sharp increase in the number of covid cases happened around May 2020"
   ]
  },
  {
   "cell_type": "code",
   "execution_count": null,
   "id": "informal-reporter",
   "metadata": {},
   "outputs": [],
   "source": []
  }
 ],
 "metadata": {
  "kernelspec": {
   "display_name": "Python 3",
   "language": "python",
   "name": "python3"
  },
  "language_info": {
   "codemirror_mode": {
    "name": "ipython",
    "version": 3
   },
   "file_extension": ".py",
   "mimetype": "text/x-python",
   "name": "python",
   "nbconvert_exporter": "python",
   "pygments_lexer": "ipython3",
   "version": "3.6.9"
  }
 },
 "nbformat": 4,
 "nbformat_minor": 5
}
