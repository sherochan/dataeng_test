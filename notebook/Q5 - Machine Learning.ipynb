{
 "cells": [
  {
   "cell_type": "markdown",
   "id": "classified-grade",
   "metadata": {},
   "source": [
    "Using the dataset from https://archive.ics.uci.edu/ml/datasets/Car+Evaluation, create a machine learning model to predict the buying price given the following parameters:\n",
    "\n",
    "Maintenance = High, Number of doors = 4, Lug Boot Size = Big, Safety = High, Class Value = Good"
   ]
  },
  {
   "cell_type": "code",
   "execution_count": 1,
   "id": "weighted-belly",
   "metadata": {},
   "outputs": [],
   "source": [
    "import pandas as pd \n",
    "import numpy as np"
   ]
  },
  {
   "cell_type": "code",
   "execution_count": 2,
   "id": "subtle-impression",
   "metadata": {},
   "outputs": [],
   "source": [
    "car_data = open('/data/car.data', 'r')\n",
    "count = 0\n",
    "full_car_list = []\n",
    " \n",
    "while True:\n",
    "    line = car_data.readline()\n",
    "    \n",
    "    if not line:\n",
    "        break\n",
    "    full_car_list.append(line.strip().split(\",\"))\n"
   ]
  },
  {
   "cell_type": "markdown",
   "id": "smooth-request",
   "metadata": {},
   "source": [
    "### From the description file :\n",
    "- buying\n",
    "    - buying price \n",
    "    - vhigh, high, med, low\n",
    "- maint\n",
    "    - price of maintenance\n",
    "    - vhigh, high, med, low\n",
    "- doors\n",
    "    - number of doors \n",
    "    - 2, 3, 4, 5more\n",
    "- persons\n",
    "    - capacity in terms of the persons to carry\n",
    "    - 2, 4, more \n",
    "- lug_boot\n",
    "    - the size of the luggage boot\n",
    "    - small, med, big\n",
    "- safety\n",
    "    - estimated safety of the car \n",
    "    - low, med, high\n",
    "- car_eval_domain\n",
    "    - unacc, acc, good, vgood"
   ]
  },
  {
   "cell_type": "code",
   "execution_count": 3,
   "id": "lovely-content",
   "metadata": {},
   "outputs": [],
   "source": [
    "data_df = pd.DataFrame(full_car_list, columns = [\"buying\",\"maint\",\"doors\",\"persons\",\"lug_boot\",\"safety\",\"car_eval_domain\"])"
   ]
  },
  {
   "cell_type": "code",
   "execution_count": 4,
   "id": "forbidden-lewis",
   "metadata": {},
   "outputs": [
    {
     "data": {
      "text/html": [
       "<div>\n",
       "<style scoped>\n",
       "    .dataframe tbody tr th:only-of-type {\n",
       "        vertical-align: middle;\n",
       "    }\n",
       "\n",
       "    .dataframe tbody tr th {\n",
       "        vertical-align: top;\n",
       "    }\n",
       "\n",
       "    .dataframe thead th {\n",
       "        text-align: right;\n",
       "    }\n",
       "</style>\n",
       "<table border=\"1\" class=\"dataframe\">\n",
       "  <thead>\n",
       "    <tr style=\"text-align: right;\">\n",
       "      <th></th>\n",
       "      <th>buying</th>\n",
       "      <th>maint</th>\n",
       "      <th>doors</th>\n",
       "      <th>persons</th>\n",
       "      <th>lug_boot</th>\n",
       "      <th>safety</th>\n",
       "      <th>car_eval_domain</th>\n",
       "    </tr>\n",
       "  </thead>\n",
       "  <tbody>\n",
       "    <tr>\n",
       "      <th>0</th>\n",
       "      <td>vhigh</td>\n",
       "      <td>vhigh</td>\n",
       "      <td>2</td>\n",
       "      <td>2</td>\n",
       "      <td>small</td>\n",
       "      <td>low</td>\n",
       "      <td>unacc</td>\n",
       "    </tr>\n",
       "    <tr>\n",
       "      <th>1</th>\n",
       "      <td>vhigh</td>\n",
       "      <td>vhigh</td>\n",
       "      <td>2</td>\n",
       "      <td>2</td>\n",
       "      <td>small</td>\n",
       "      <td>med</td>\n",
       "      <td>unacc</td>\n",
       "    </tr>\n",
       "    <tr>\n",
       "      <th>2</th>\n",
       "      <td>vhigh</td>\n",
       "      <td>vhigh</td>\n",
       "      <td>2</td>\n",
       "      <td>2</td>\n",
       "      <td>small</td>\n",
       "      <td>high</td>\n",
       "      <td>unacc</td>\n",
       "    </tr>\n",
       "    <tr>\n",
       "      <th>3</th>\n",
       "      <td>vhigh</td>\n",
       "      <td>vhigh</td>\n",
       "      <td>2</td>\n",
       "      <td>2</td>\n",
       "      <td>med</td>\n",
       "      <td>low</td>\n",
       "      <td>unacc</td>\n",
       "    </tr>\n",
       "    <tr>\n",
       "      <th>4</th>\n",
       "      <td>vhigh</td>\n",
       "      <td>vhigh</td>\n",
       "      <td>2</td>\n",
       "      <td>2</td>\n",
       "      <td>med</td>\n",
       "      <td>med</td>\n",
       "      <td>unacc</td>\n",
       "    </tr>\n",
       "    <tr>\n",
       "      <th>...</th>\n",
       "      <td>...</td>\n",
       "      <td>...</td>\n",
       "      <td>...</td>\n",
       "      <td>...</td>\n",
       "      <td>...</td>\n",
       "      <td>...</td>\n",
       "      <td>...</td>\n",
       "    </tr>\n",
       "    <tr>\n",
       "      <th>1723</th>\n",
       "      <td>low</td>\n",
       "      <td>low</td>\n",
       "      <td>5more</td>\n",
       "      <td>more</td>\n",
       "      <td>med</td>\n",
       "      <td>med</td>\n",
       "      <td>good</td>\n",
       "    </tr>\n",
       "    <tr>\n",
       "      <th>1724</th>\n",
       "      <td>low</td>\n",
       "      <td>low</td>\n",
       "      <td>5more</td>\n",
       "      <td>more</td>\n",
       "      <td>med</td>\n",
       "      <td>high</td>\n",
       "      <td>vgood</td>\n",
       "    </tr>\n",
       "    <tr>\n",
       "      <th>1725</th>\n",
       "      <td>low</td>\n",
       "      <td>low</td>\n",
       "      <td>5more</td>\n",
       "      <td>more</td>\n",
       "      <td>big</td>\n",
       "      <td>low</td>\n",
       "      <td>unacc</td>\n",
       "    </tr>\n",
       "    <tr>\n",
       "      <th>1726</th>\n",
       "      <td>low</td>\n",
       "      <td>low</td>\n",
       "      <td>5more</td>\n",
       "      <td>more</td>\n",
       "      <td>big</td>\n",
       "      <td>med</td>\n",
       "      <td>good</td>\n",
       "    </tr>\n",
       "    <tr>\n",
       "      <th>1727</th>\n",
       "      <td>low</td>\n",
       "      <td>low</td>\n",
       "      <td>5more</td>\n",
       "      <td>more</td>\n",
       "      <td>big</td>\n",
       "      <td>high</td>\n",
       "      <td>vgood</td>\n",
       "    </tr>\n",
       "  </tbody>\n",
       "</table>\n",
       "<p>1728 rows × 7 columns</p>\n",
       "</div>"
      ],
      "text/plain": [
       "     buying  maint  doors persons lug_boot safety car_eval_domain\n",
       "0     vhigh  vhigh      2       2    small    low           unacc\n",
       "1     vhigh  vhigh      2       2    small    med           unacc\n",
       "2     vhigh  vhigh      2       2    small   high           unacc\n",
       "3     vhigh  vhigh      2       2      med    low           unacc\n",
       "4     vhigh  vhigh      2       2      med    med           unacc\n",
       "...     ...    ...    ...     ...      ...    ...             ...\n",
       "1723    low    low  5more    more      med    med            good\n",
       "1724    low    low  5more    more      med   high           vgood\n",
       "1725    low    low  5more    more      big    low           unacc\n",
       "1726    low    low  5more    more      big    med            good\n",
       "1727    low    low  5more    more      big   high           vgood\n",
       "\n",
       "[1728 rows x 7 columns]"
      ]
     },
     "execution_count": 4,
     "metadata": {},
     "output_type": "execute_result"
    }
   ],
   "source": [
    "data_df"
   ]
  },
  {
   "cell_type": "markdown",
   "id": "sophisticated-bride",
   "metadata": {},
   "source": [
    "## EDA + data processing"
   ]
  },
  {
   "cell_type": "code",
   "execution_count": 5,
   "id": "optimum-purse",
   "metadata": {},
   "outputs": [
    {
     "name": "stdout",
     "output_type": "stream",
     "text": [
      "<class 'pandas.core.frame.DataFrame'>\n",
      "RangeIndex: 1728 entries, 0 to 1727\n",
      "Data columns (total 7 columns):\n",
      " #   Column           Non-Null Count  Dtype \n",
      "---  ------           --------------  ----- \n",
      " 0   buying           1728 non-null   object\n",
      " 1   maint            1728 non-null   object\n",
      " 2   doors            1728 non-null   object\n",
      " 3   persons          1728 non-null   object\n",
      " 4   lug_boot         1728 non-null   object\n",
      " 5   safety           1728 non-null   object\n",
      " 6   car_eval_domain  1728 non-null   object\n",
      "dtypes: object(7)\n",
      "memory usage: 94.6+ KB\n"
     ]
    }
   ],
   "source": [
    "data_df.info()"
   ]
  },
  {
   "cell_type": "markdown",
   "id": "ready-tutorial",
   "metadata": {},
   "source": [
    "no null object as per stated in the description"
   ]
  },
  {
   "cell_type": "code",
   "execution_count": 6,
   "id": "cutting-qualification",
   "metadata": {},
   "outputs": [
    {
     "data": {
      "text/plain": [
       "low      432\n",
       "vhigh    432\n",
       "med      432\n",
       "high     432\n",
       "Name: buying, dtype: int64"
      ]
     },
     "execution_count": 6,
     "metadata": {},
     "output_type": "execute_result"
    }
   ],
   "source": [
    "data_df[\"buying\"].value_counts()"
   ]
  },
  {
   "cell_type": "code",
   "execution_count": 7,
   "id": "powered-booking",
   "metadata": {},
   "outputs": [
    {
     "data": {
      "text/plain": [
       "low      432\n",
       "vhigh    432\n",
       "med      432\n",
       "high     432\n",
       "Name: maint, dtype: int64"
      ]
     },
     "execution_count": 7,
     "metadata": {},
     "output_type": "execute_result"
    }
   ],
   "source": [
    "data_df[\"maint\"].value_counts()"
   ]
  },
  {
   "cell_type": "code",
   "execution_count": 8,
   "id": "adjacent-toilet",
   "metadata": {},
   "outputs": [
    {
     "data": {
      "text/plain": [
       "2        432\n",
       "3        432\n",
       "5more    432\n",
       "4        432\n",
       "Name: doors, dtype: int64"
      ]
     },
     "execution_count": 8,
     "metadata": {},
     "output_type": "execute_result"
    }
   ],
   "source": [
    "data_df[\"doors\"].value_counts()"
   ]
  },
  {
   "cell_type": "code",
   "execution_count": 9,
   "id": "loving-hollow",
   "metadata": {},
   "outputs": [
    {
     "data": {
      "text/plain": [
       "2       576\n",
       "more    576\n",
       "4       576\n",
       "Name: persons, dtype: int64"
      ]
     },
     "execution_count": 9,
     "metadata": {},
     "output_type": "execute_result"
    }
   ],
   "source": [
    "data_df[\"persons\"].value_counts()"
   ]
  },
  {
   "cell_type": "code",
   "execution_count": 10,
   "id": "colonial-hello",
   "metadata": {},
   "outputs": [
    {
     "data": {
      "text/plain": [
       "big      576\n",
       "small    576\n",
       "med      576\n",
       "Name: lug_boot, dtype: int64"
      ]
     },
     "execution_count": 10,
     "metadata": {},
     "output_type": "execute_result"
    }
   ],
   "source": [
    "data_df[\"lug_boot\"].value_counts()"
   ]
  },
  {
   "cell_type": "code",
   "execution_count": 11,
   "id": "comprehensive-replication",
   "metadata": {},
   "outputs": [
    {
     "data": {
      "text/plain": [
       "low     576\n",
       "med     576\n",
       "high    576\n",
       "Name: safety, dtype: int64"
      ]
     },
     "execution_count": 11,
     "metadata": {},
     "output_type": "execute_result"
    }
   ],
   "source": [
    "data_df[\"safety\"].value_counts()"
   ]
  },
  {
   "cell_type": "code",
   "execution_count": 12,
   "id": "apart-australia",
   "metadata": {},
   "outputs": [
    {
     "data": {
      "text/plain": [
       "unacc    1210\n",
       "acc       384\n",
       "good       69\n",
       "vgood      65\n",
       "Name: car_eval_domain, dtype: int64"
      ]
     },
     "execution_count": 12,
     "metadata": {},
     "output_type": "execute_result"
    }
   ],
   "source": [
    "data_df[\"car_eval_domain\"].value_counts()"
   ]
  },
  {
   "cell_type": "markdown",
   "id": "thorough-archives",
   "metadata": {},
   "source": [
    "all the values checked and matches w the description. Categorical variables"
   ]
  },
  {
   "cell_type": "code",
   "execution_count": 13,
   "id": "legitimate-pearl",
   "metadata": {},
   "outputs": [],
   "source": [
    "from sklearn.preprocessing import LabelEncoder"
   ]
  },
  {
   "cell_type": "code",
   "execution_count": 14,
   "id": "relevant-maple",
   "metadata": {},
   "outputs": [],
   "source": [
    "le = LabelEncoder()"
   ]
  },
  {
   "cell_type": "code",
   "execution_count": 15,
   "id": "entire-circumstances",
   "metadata": {},
   "outputs": [
    {
     "data": {
      "text/plain": [
       "LabelEncoder()"
      ]
     },
     "execution_count": 15,
     "metadata": {},
     "output_type": "execute_result"
    }
   ],
   "source": [
    "le.fit(data_df[\"buying\"])"
   ]
  },
  {
   "cell_type": "code",
   "execution_count": 16,
   "id": "sitting-midwest",
   "metadata": {},
   "outputs": [
    {
     "data": {
      "text/plain": [
       "array(['high', 'low', 'med', 'vhigh'], dtype=object)"
      ]
     },
     "execution_count": 16,
     "metadata": {},
     "output_type": "execute_result"
    }
   ],
   "source": [
    "le.classes_"
   ]
  },
  {
   "cell_type": "code",
   "execution_count": 17,
   "id": "mighty-hebrew",
   "metadata": {},
   "outputs": [],
   "source": [
    "y_numpy = le.transform(data_df[\"buying\"])"
   ]
  },
  {
   "cell_type": "code",
   "execution_count": 18,
   "id": "premium-talent",
   "metadata": {},
   "outputs": [],
   "source": [
    "X_df = data_df.drop([\"buying\"], axis = 1)"
   ]
  },
  {
   "cell_type": "code",
   "execution_count": 19,
   "id": "static-hammer",
   "metadata": {},
   "outputs": [
    {
     "data": {
      "text/html": [
       "<div>\n",
       "<style scoped>\n",
       "    .dataframe tbody tr th:only-of-type {\n",
       "        vertical-align: middle;\n",
       "    }\n",
       "\n",
       "    .dataframe tbody tr th {\n",
       "        vertical-align: top;\n",
       "    }\n",
       "\n",
       "    .dataframe thead th {\n",
       "        text-align: right;\n",
       "    }\n",
       "</style>\n",
       "<table border=\"1\" class=\"dataframe\">\n",
       "  <thead>\n",
       "    <tr style=\"text-align: right;\">\n",
       "      <th></th>\n",
       "      <th>maint</th>\n",
       "      <th>doors</th>\n",
       "      <th>persons</th>\n",
       "      <th>lug_boot</th>\n",
       "      <th>safety</th>\n",
       "      <th>car_eval_domain</th>\n",
       "    </tr>\n",
       "  </thead>\n",
       "  <tbody>\n",
       "    <tr>\n",
       "      <th>0</th>\n",
       "      <td>vhigh</td>\n",
       "      <td>2</td>\n",
       "      <td>2</td>\n",
       "      <td>small</td>\n",
       "      <td>low</td>\n",
       "      <td>unacc</td>\n",
       "    </tr>\n",
       "    <tr>\n",
       "      <th>1</th>\n",
       "      <td>vhigh</td>\n",
       "      <td>2</td>\n",
       "      <td>2</td>\n",
       "      <td>small</td>\n",
       "      <td>med</td>\n",
       "      <td>unacc</td>\n",
       "    </tr>\n",
       "    <tr>\n",
       "      <th>2</th>\n",
       "      <td>vhigh</td>\n",
       "      <td>2</td>\n",
       "      <td>2</td>\n",
       "      <td>small</td>\n",
       "      <td>high</td>\n",
       "      <td>unacc</td>\n",
       "    </tr>\n",
       "    <tr>\n",
       "      <th>3</th>\n",
       "      <td>vhigh</td>\n",
       "      <td>2</td>\n",
       "      <td>2</td>\n",
       "      <td>med</td>\n",
       "      <td>low</td>\n",
       "      <td>unacc</td>\n",
       "    </tr>\n",
       "    <tr>\n",
       "      <th>4</th>\n",
       "      <td>vhigh</td>\n",
       "      <td>2</td>\n",
       "      <td>2</td>\n",
       "      <td>med</td>\n",
       "      <td>med</td>\n",
       "      <td>unacc</td>\n",
       "    </tr>\n",
       "    <tr>\n",
       "      <th>...</th>\n",
       "      <td>...</td>\n",
       "      <td>...</td>\n",
       "      <td>...</td>\n",
       "      <td>...</td>\n",
       "      <td>...</td>\n",
       "      <td>...</td>\n",
       "    </tr>\n",
       "    <tr>\n",
       "      <th>1723</th>\n",
       "      <td>low</td>\n",
       "      <td>5more</td>\n",
       "      <td>more</td>\n",
       "      <td>med</td>\n",
       "      <td>med</td>\n",
       "      <td>good</td>\n",
       "    </tr>\n",
       "    <tr>\n",
       "      <th>1724</th>\n",
       "      <td>low</td>\n",
       "      <td>5more</td>\n",
       "      <td>more</td>\n",
       "      <td>med</td>\n",
       "      <td>high</td>\n",
       "      <td>vgood</td>\n",
       "    </tr>\n",
       "    <tr>\n",
       "      <th>1725</th>\n",
       "      <td>low</td>\n",
       "      <td>5more</td>\n",
       "      <td>more</td>\n",
       "      <td>big</td>\n",
       "      <td>low</td>\n",
       "      <td>unacc</td>\n",
       "    </tr>\n",
       "    <tr>\n",
       "      <th>1726</th>\n",
       "      <td>low</td>\n",
       "      <td>5more</td>\n",
       "      <td>more</td>\n",
       "      <td>big</td>\n",
       "      <td>med</td>\n",
       "      <td>good</td>\n",
       "    </tr>\n",
       "    <tr>\n",
       "      <th>1727</th>\n",
       "      <td>low</td>\n",
       "      <td>5more</td>\n",
       "      <td>more</td>\n",
       "      <td>big</td>\n",
       "      <td>high</td>\n",
       "      <td>vgood</td>\n",
       "    </tr>\n",
       "  </tbody>\n",
       "</table>\n",
       "<p>1728 rows × 6 columns</p>\n",
       "</div>"
      ],
      "text/plain": [
       "      maint  doors persons lug_boot safety car_eval_domain\n",
       "0     vhigh      2       2    small    low           unacc\n",
       "1     vhigh      2       2    small    med           unacc\n",
       "2     vhigh      2       2    small   high           unacc\n",
       "3     vhigh      2       2      med    low           unacc\n",
       "4     vhigh      2       2      med    med           unacc\n",
       "...     ...    ...     ...      ...    ...             ...\n",
       "1723    low  5more    more      med    med            good\n",
       "1724    low  5more    more      med   high           vgood\n",
       "1725    low  5more    more      big    low           unacc\n",
       "1726    low  5more    more      big    med            good\n",
       "1727    low  5more    more      big   high           vgood\n",
       "\n",
       "[1728 rows x 6 columns]"
      ]
     },
     "execution_count": 19,
     "metadata": {},
     "output_type": "execute_result"
    }
   ],
   "source": [
    "X_df"
   ]
  },
  {
   "cell_type": "code",
   "execution_count": 20,
   "id": "lasting-penetration",
   "metadata": {},
   "outputs": [
    {
     "data": {
      "text/plain": [
       "Index(['maint', 'doors', 'persons', 'lug_boot', 'safety', 'car_eval_domain'], dtype='object')"
      ]
     },
     "execution_count": 20,
     "metadata": {},
     "output_type": "execute_result"
    }
   ],
   "source": [
    "X_df.columns"
   ]
  },
  {
   "cell_type": "code",
   "execution_count": 21,
   "id": "christian-reminder",
   "metadata": {},
   "outputs": [],
   "source": [
    "final_X_df = pd.get_dummies(X_df)"
   ]
  },
  {
   "cell_type": "code",
   "execution_count": 22,
   "id": "small-southwest",
   "metadata": {},
   "outputs": [
    {
     "data": {
      "text/html": [
       "<div>\n",
       "<style scoped>\n",
       "    .dataframe tbody tr th:only-of-type {\n",
       "        vertical-align: middle;\n",
       "    }\n",
       "\n",
       "    .dataframe tbody tr th {\n",
       "        vertical-align: top;\n",
       "    }\n",
       "\n",
       "    .dataframe thead th {\n",
       "        text-align: right;\n",
       "    }\n",
       "</style>\n",
       "<table border=\"1\" class=\"dataframe\">\n",
       "  <thead>\n",
       "    <tr style=\"text-align: right;\">\n",
       "      <th></th>\n",
       "      <th>maint_high</th>\n",
       "      <th>maint_low</th>\n",
       "      <th>maint_med</th>\n",
       "      <th>maint_vhigh</th>\n",
       "      <th>doors_2</th>\n",
       "      <th>doors_3</th>\n",
       "      <th>doors_4</th>\n",
       "      <th>doors_5more</th>\n",
       "      <th>persons_2</th>\n",
       "      <th>persons_4</th>\n",
       "      <th>...</th>\n",
       "      <th>lug_boot_big</th>\n",
       "      <th>lug_boot_med</th>\n",
       "      <th>lug_boot_small</th>\n",
       "      <th>safety_high</th>\n",
       "      <th>safety_low</th>\n",
       "      <th>safety_med</th>\n",
       "      <th>car_eval_domain_acc</th>\n",
       "      <th>car_eval_domain_good</th>\n",
       "      <th>car_eval_domain_unacc</th>\n",
       "      <th>car_eval_domain_vgood</th>\n",
       "    </tr>\n",
       "  </thead>\n",
       "  <tbody>\n",
       "    <tr>\n",
       "      <th>0</th>\n",
       "      <td>0</td>\n",
       "      <td>0</td>\n",
       "      <td>0</td>\n",
       "      <td>1</td>\n",
       "      <td>1</td>\n",
       "      <td>0</td>\n",
       "      <td>0</td>\n",
       "      <td>0</td>\n",
       "      <td>1</td>\n",
       "      <td>0</td>\n",
       "      <td>...</td>\n",
       "      <td>0</td>\n",
       "      <td>0</td>\n",
       "      <td>1</td>\n",
       "      <td>0</td>\n",
       "      <td>1</td>\n",
       "      <td>0</td>\n",
       "      <td>0</td>\n",
       "      <td>0</td>\n",
       "      <td>1</td>\n",
       "      <td>0</td>\n",
       "    </tr>\n",
       "    <tr>\n",
       "      <th>1</th>\n",
       "      <td>0</td>\n",
       "      <td>0</td>\n",
       "      <td>0</td>\n",
       "      <td>1</td>\n",
       "      <td>1</td>\n",
       "      <td>0</td>\n",
       "      <td>0</td>\n",
       "      <td>0</td>\n",
       "      <td>1</td>\n",
       "      <td>0</td>\n",
       "      <td>...</td>\n",
       "      <td>0</td>\n",
       "      <td>0</td>\n",
       "      <td>1</td>\n",
       "      <td>0</td>\n",
       "      <td>0</td>\n",
       "      <td>1</td>\n",
       "      <td>0</td>\n",
       "      <td>0</td>\n",
       "      <td>1</td>\n",
       "      <td>0</td>\n",
       "    </tr>\n",
       "    <tr>\n",
       "      <th>2</th>\n",
       "      <td>0</td>\n",
       "      <td>0</td>\n",
       "      <td>0</td>\n",
       "      <td>1</td>\n",
       "      <td>1</td>\n",
       "      <td>0</td>\n",
       "      <td>0</td>\n",
       "      <td>0</td>\n",
       "      <td>1</td>\n",
       "      <td>0</td>\n",
       "      <td>...</td>\n",
       "      <td>0</td>\n",
       "      <td>0</td>\n",
       "      <td>1</td>\n",
       "      <td>1</td>\n",
       "      <td>0</td>\n",
       "      <td>0</td>\n",
       "      <td>0</td>\n",
       "      <td>0</td>\n",
       "      <td>1</td>\n",
       "      <td>0</td>\n",
       "    </tr>\n",
       "    <tr>\n",
       "      <th>3</th>\n",
       "      <td>0</td>\n",
       "      <td>0</td>\n",
       "      <td>0</td>\n",
       "      <td>1</td>\n",
       "      <td>1</td>\n",
       "      <td>0</td>\n",
       "      <td>0</td>\n",
       "      <td>0</td>\n",
       "      <td>1</td>\n",
       "      <td>0</td>\n",
       "      <td>...</td>\n",
       "      <td>0</td>\n",
       "      <td>1</td>\n",
       "      <td>0</td>\n",
       "      <td>0</td>\n",
       "      <td>1</td>\n",
       "      <td>0</td>\n",
       "      <td>0</td>\n",
       "      <td>0</td>\n",
       "      <td>1</td>\n",
       "      <td>0</td>\n",
       "    </tr>\n",
       "    <tr>\n",
       "      <th>4</th>\n",
       "      <td>0</td>\n",
       "      <td>0</td>\n",
       "      <td>0</td>\n",
       "      <td>1</td>\n",
       "      <td>1</td>\n",
       "      <td>0</td>\n",
       "      <td>0</td>\n",
       "      <td>0</td>\n",
       "      <td>1</td>\n",
       "      <td>0</td>\n",
       "      <td>...</td>\n",
       "      <td>0</td>\n",
       "      <td>1</td>\n",
       "      <td>0</td>\n",
       "      <td>0</td>\n",
       "      <td>0</td>\n",
       "      <td>1</td>\n",
       "      <td>0</td>\n",
       "      <td>0</td>\n",
       "      <td>1</td>\n",
       "      <td>0</td>\n",
       "    </tr>\n",
       "    <tr>\n",
       "      <th>...</th>\n",
       "      <td>...</td>\n",
       "      <td>...</td>\n",
       "      <td>...</td>\n",
       "      <td>...</td>\n",
       "      <td>...</td>\n",
       "      <td>...</td>\n",
       "      <td>...</td>\n",
       "      <td>...</td>\n",
       "      <td>...</td>\n",
       "      <td>...</td>\n",
       "      <td>...</td>\n",
       "      <td>...</td>\n",
       "      <td>...</td>\n",
       "      <td>...</td>\n",
       "      <td>...</td>\n",
       "      <td>...</td>\n",
       "      <td>...</td>\n",
       "      <td>...</td>\n",
       "      <td>...</td>\n",
       "      <td>...</td>\n",
       "      <td>...</td>\n",
       "    </tr>\n",
       "    <tr>\n",
       "      <th>1723</th>\n",
       "      <td>0</td>\n",
       "      <td>1</td>\n",
       "      <td>0</td>\n",
       "      <td>0</td>\n",
       "      <td>0</td>\n",
       "      <td>0</td>\n",
       "      <td>0</td>\n",
       "      <td>1</td>\n",
       "      <td>0</td>\n",
       "      <td>0</td>\n",
       "      <td>...</td>\n",
       "      <td>0</td>\n",
       "      <td>1</td>\n",
       "      <td>0</td>\n",
       "      <td>0</td>\n",
       "      <td>0</td>\n",
       "      <td>1</td>\n",
       "      <td>0</td>\n",
       "      <td>1</td>\n",
       "      <td>0</td>\n",
       "      <td>0</td>\n",
       "    </tr>\n",
       "    <tr>\n",
       "      <th>1724</th>\n",
       "      <td>0</td>\n",
       "      <td>1</td>\n",
       "      <td>0</td>\n",
       "      <td>0</td>\n",
       "      <td>0</td>\n",
       "      <td>0</td>\n",
       "      <td>0</td>\n",
       "      <td>1</td>\n",
       "      <td>0</td>\n",
       "      <td>0</td>\n",
       "      <td>...</td>\n",
       "      <td>0</td>\n",
       "      <td>1</td>\n",
       "      <td>0</td>\n",
       "      <td>1</td>\n",
       "      <td>0</td>\n",
       "      <td>0</td>\n",
       "      <td>0</td>\n",
       "      <td>0</td>\n",
       "      <td>0</td>\n",
       "      <td>1</td>\n",
       "    </tr>\n",
       "    <tr>\n",
       "      <th>1725</th>\n",
       "      <td>0</td>\n",
       "      <td>1</td>\n",
       "      <td>0</td>\n",
       "      <td>0</td>\n",
       "      <td>0</td>\n",
       "      <td>0</td>\n",
       "      <td>0</td>\n",
       "      <td>1</td>\n",
       "      <td>0</td>\n",
       "      <td>0</td>\n",
       "      <td>...</td>\n",
       "      <td>1</td>\n",
       "      <td>0</td>\n",
       "      <td>0</td>\n",
       "      <td>0</td>\n",
       "      <td>1</td>\n",
       "      <td>0</td>\n",
       "      <td>0</td>\n",
       "      <td>0</td>\n",
       "      <td>1</td>\n",
       "      <td>0</td>\n",
       "    </tr>\n",
       "    <tr>\n",
       "      <th>1726</th>\n",
       "      <td>0</td>\n",
       "      <td>1</td>\n",
       "      <td>0</td>\n",
       "      <td>0</td>\n",
       "      <td>0</td>\n",
       "      <td>0</td>\n",
       "      <td>0</td>\n",
       "      <td>1</td>\n",
       "      <td>0</td>\n",
       "      <td>0</td>\n",
       "      <td>...</td>\n",
       "      <td>1</td>\n",
       "      <td>0</td>\n",
       "      <td>0</td>\n",
       "      <td>0</td>\n",
       "      <td>0</td>\n",
       "      <td>1</td>\n",
       "      <td>0</td>\n",
       "      <td>1</td>\n",
       "      <td>0</td>\n",
       "      <td>0</td>\n",
       "    </tr>\n",
       "    <tr>\n",
       "      <th>1727</th>\n",
       "      <td>0</td>\n",
       "      <td>1</td>\n",
       "      <td>0</td>\n",
       "      <td>0</td>\n",
       "      <td>0</td>\n",
       "      <td>0</td>\n",
       "      <td>0</td>\n",
       "      <td>1</td>\n",
       "      <td>0</td>\n",
       "      <td>0</td>\n",
       "      <td>...</td>\n",
       "      <td>1</td>\n",
       "      <td>0</td>\n",
       "      <td>0</td>\n",
       "      <td>1</td>\n",
       "      <td>0</td>\n",
       "      <td>0</td>\n",
       "      <td>0</td>\n",
       "      <td>0</td>\n",
       "      <td>0</td>\n",
       "      <td>1</td>\n",
       "    </tr>\n",
       "  </tbody>\n",
       "</table>\n",
       "<p>1728 rows × 21 columns</p>\n",
       "</div>"
      ],
      "text/plain": [
       "      maint_high  maint_low  maint_med  maint_vhigh  doors_2  doors_3  \\\n",
       "0              0          0          0            1        1        0   \n",
       "1              0          0          0            1        1        0   \n",
       "2              0          0          0            1        1        0   \n",
       "3              0          0          0            1        1        0   \n",
       "4              0          0          0            1        1        0   \n",
       "...          ...        ...        ...          ...      ...      ...   \n",
       "1723           0          1          0            0        0        0   \n",
       "1724           0          1          0            0        0        0   \n",
       "1725           0          1          0            0        0        0   \n",
       "1726           0          1          0            0        0        0   \n",
       "1727           0          1          0            0        0        0   \n",
       "\n",
       "      doors_4  doors_5more  persons_2  persons_4  ...  lug_boot_big  \\\n",
       "0           0            0          1          0  ...             0   \n",
       "1           0            0          1          0  ...             0   \n",
       "2           0            0          1          0  ...             0   \n",
       "3           0            0          1          0  ...             0   \n",
       "4           0            0          1          0  ...             0   \n",
       "...       ...          ...        ...        ...  ...           ...   \n",
       "1723        0            1          0          0  ...             0   \n",
       "1724        0            1          0          0  ...             0   \n",
       "1725        0            1          0          0  ...             1   \n",
       "1726        0            1          0          0  ...             1   \n",
       "1727        0            1          0          0  ...             1   \n",
       "\n",
       "      lug_boot_med  lug_boot_small  safety_high  safety_low  safety_med  \\\n",
       "0                0               1            0           1           0   \n",
       "1                0               1            0           0           1   \n",
       "2                0               1            1           0           0   \n",
       "3                1               0            0           1           0   \n",
       "4                1               0            0           0           1   \n",
       "...            ...             ...          ...         ...         ...   \n",
       "1723             1               0            0           0           1   \n",
       "1724             1               0            1           0           0   \n",
       "1725             0               0            0           1           0   \n",
       "1726             0               0            0           0           1   \n",
       "1727             0               0            1           0           0   \n",
       "\n",
       "      car_eval_domain_acc  car_eval_domain_good  car_eval_domain_unacc  \\\n",
       "0                       0                     0                      1   \n",
       "1                       0                     0                      1   \n",
       "2                       0                     0                      1   \n",
       "3                       0                     0                      1   \n",
       "4                       0                     0                      1   \n",
       "...                   ...                   ...                    ...   \n",
       "1723                    0                     1                      0   \n",
       "1724                    0                     0                      0   \n",
       "1725                    0                     0                      1   \n",
       "1726                    0                     1                      0   \n",
       "1727                    0                     0                      0   \n",
       "\n",
       "      car_eval_domain_vgood  \n",
       "0                         0  \n",
       "1                         0  \n",
       "2                         0  \n",
       "3                         0  \n",
       "4                         0  \n",
       "...                     ...  \n",
       "1723                      0  \n",
       "1724                      1  \n",
       "1725                      0  \n",
       "1726                      0  \n",
       "1727                      1  \n",
       "\n",
       "[1728 rows x 21 columns]"
      ]
     },
     "execution_count": 22,
     "metadata": {},
     "output_type": "execute_result"
    }
   ],
   "source": [
    "final_X_df"
   ]
  },
  {
   "cell_type": "code",
   "execution_count": 23,
   "id": "beginning-dollar",
   "metadata": {},
   "outputs": [
    {
     "data": {
      "text/plain": [
       "Index(['maint_high', 'maint_low', 'maint_med', 'maint_vhigh', 'doors_2',\n",
       "       'doors_3', 'doors_4', 'doors_5more', 'persons_2', 'persons_4',\n",
       "       'persons_more', 'lug_boot_big', 'lug_boot_med', 'lug_boot_small',\n",
       "       'safety_high', 'safety_low', 'safety_med', 'car_eval_domain_acc',\n",
       "       'car_eval_domain_good', 'car_eval_domain_unacc',\n",
       "       'car_eval_domain_vgood'],\n",
       "      dtype='object')"
      ]
     },
     "execution_count": 23,
     "metadata": {},
     "output_type": "execute_result"
    }
   ],
   "source": [
    "final_X_df.columns"
   ]
  },
  {
   "cell_type": "code",
   "execution_count": 24,
   "id": "romantic-gather",
   "metadata": {},
   "outputs": [],
   "source": [
    "X_numpy = final_X_df.to_numpy()"
   ]
  },
  {
   "cell_type": "code",
   "execution_count": 25,
   "id": "anonymous-present",
   "metadata": {},
   "outputs": [
    {
     "data": {
      "text/plain": [
       "array([[0, 0, 0, ..., 0, 1, 0],\n",
       "       [0, 0, 0, ..., 0, 1, 0],\n",
       "       [0, 0, 0, ..., 0, 1, 0],\n",
       "       ...,\n",
       "       [0, 1, 0, ..., 0, 1, 0],\n",
       "       [0, 1, 0, ..., 1, 0, 0],\n",
       "       [0, 1, 0, ..., 0, 0, 1]], dtype=uint8)"
      ]
     },
     "execution_count": 25,
     "metadata": {},
     "output_type": "execute_result"
    }
   ],
   "source": [
    "X_numpy"
   ]
  },
  {
   "cell_type": "code",
   "execution_count": 26,
   "id": "under-sally",
   "metadata": {},
   "outputs": [
    {
     "data": {
      "text/plain": [
       "array([3, 3, 3, ..., 1, 1, 1])"
      ]
     },
     "execution_count": 26,
     "metadata": {},
     "output_type": "execute_result"
    }
   ],
   "source": [
    "y_numpy"
   ]
  },
  {
   "cell_type": "code",
   "execution_count": 27,
   "id": "aging-germany",
   "metadata": {},
   "outputs": [],
   "source": [
    "from sklearn.model_selection import train_test_split"
   ]
  },
  {
   "cell_type": "code",
   "execution_count": 28,
   "id": "living-hazard",
   "metadata": {},
   "outputs": [],
   "source": [
    "X_train, X_test, y_train, y_test = train_test_split(X_numpy, y_numpy, test_size = 0.25, random_state = 42)"
   ]
  },
  {
   "cell_type": "code",
   "execution_count": 29,
   "id": "aggregate-miracle",
   "metadata": {},
   "outputs": [
    {
     "data": {
      "text/plain": [
       "array([[1, 0, 0, ..., 0, 1, 0],\n",
       "       [0, 1, 0, ..., 0, 1, 0],\n",
       "       [1, 0, 0, ..., 0, 0, 0],\n",
       "       ...,\n",
       "       [0, 1, 0, ..., 0, 0, 0],\n",
       "       [1, 0, 0, ..., 0, 1, 0],\n",
       "       [0, 0, 1, ..., 0, 0, 0]], dtype=uint8)"
      ]
     },
     "execution_count": 29,
     "metadata": {},
     "output_type": "execute_result"
    }
   ],
   "source": [
    "X_train"
   ]
  },
  {
   "cell_type": "code",
   "execution_count": 30,
   "id": "valid-mobile",
   "metadata": {},
   "outputs": [
    {
     "data": {
      "text/plain": [
       "(array([0, 1, 2, 3]), array([312, 329, 332, 323]))"
      ]
     },
     "execution_count": 30,
     "metadata": {},
     "output_type": "execute_result"
    }
   ],
   "source": [
    "np.unique(y_train, return_counts = True) "
   ]
  },
  {
   "cell_type": "code",
   "execution_count": 31,
   "id": "prompt-search",
   "metadata": {},
   "outputs": [
    {
     "data": {
      "text/plain": [
       "(array([0, 1, 2, 3]), array([120, 103, 100, 109]))"
      ]
     },
     "execution_count": 31,
     "metadata": {},
     "output_type": "execute_result"
    }
   ],
   "source": [
    "np.unique(y_test, return_counts = True)"
   ]
  },
  {
   "cell_type": "markdown",
   "id": "widespread-cherry",
   "metadata": {},
   "source": [
    "the class distribution is almost balanced "
   ]
  },
  {
   "cell_type": "markdown",
   "id": "clear-romania",
   "metadata": {},
   "source": [
    "### Modelling - SVM,  logistic regression "
   ]
  },
  {
   "cell_type": "code",
   "execution_count": 32,
   "id": "further-fireplace",
   "metadata": {},
   "outputs": [],
   "source": [
    "from sklearn.svm import LinearSVC, SVC"
   ]
  },
  {
   "cell_type": "code",
   "execution_count": 33,
   "id": "equivalent-notion",
   "metadata": {},
   "outputs": [],
   "source": [
    "from sklearn.model_selection import cross_val_score"
   ]
  },
  {
   "cell_type": "code",
   "execution_count": 34,
   "id": "incredible-constitution",
   "metadata": {},
   "outputs": [],
   "source": [
    "from sklearn.metrics import classification_report"
   ]
  },
  {
   "cell_type": "markdown",
   "id": "motivated-shield",
   "metadata": {},
   "source": [
    "##### Linear SVC"
   ]
  },
  {
   "cell_type": "code",
   "execution_count": 35,
   "id": "formed-alfred",
   "metadata": {},
   "outputs": [],
   "source": [
    "lin_clf = LinearSVC()"
   ]
  },
  {
   "cell_type": "code",
   "execution_count": 36,
   "id": "nearby-harmony",
   "metadata": {},
   "outputs": [
    {
     "data": {
      "text/plain": [
       "LinearSVC()"
      ]
     },
     "execution_count": 36,
     "metadata": {},
     "output_type": "execute_result"
    }
   ],
   "source": [
    "lin_clf.fit(X_train, y_train)"
   ]
  },
  {
   "cell_type": "code",
   "execution_count": 37,
   "id": "acoustic-livestock",
   "metadata": {},
   "outputs": [],
   "source": [
    "y_predict = lin_clf.predict(X_test)"
   ]
  },
  {
   "cell_type": "code",
   "execution_count": 38,
   "id": "express-indication",
   "metadata": {},
   "outputs": [
    {
     "name": "stdout",
     "output_type": "stream",
     "text": [
      "              precision    recall  f1-score   support\n",
      "\n",
      "           0       0.26      0.15      0.19       120\n",
      "           1       0.34      0.31      0.32       103\n",
      "           2       0.22      0.22      0.22       100\n",
      "           3       0.35      0.54      0.42       109\n",
      "\n",
      "    accuracy                           0.30       432\n",
      "   macro avg       0.29      0.31      0.29       432\n",
      "weighted avg       0.29      0.30      0.29       432\n",
      "\n"
     ]
    }
   ],
   "source": [
    "print(classification_report(y_test,y_predict))"
   ]
  },
  {
   "cell_type": "code",
   "execution_count": 39,
   "id": "hungarian-hygiene",
   "metadata": {},
   "outputs": [
    {
     "data": {
      "text/plain": [
       "array([0.31923077, 0.24324324, 0.36679537, 0.35135135, 0.37065637])"
      ]
     },
     "execution_count": 39,
     "metadata": {},
     "output_type": "execute_result"
    }
   ],
   "source": [
    "kfold_accuracy_scores_lin_svc = cross_val_score(lin_clf, X_train, y_train, scoring = \"accuracy\")\n",
    "kfold_accuracy_scores_lin_svc"
   ]
  },
  {
   "cell_type": "code",
   "execution_count": 40,
   "id": "level-berlin",
   "metadata": {},
   "outputs": [
    {
     "data": {
      "text/plain": [
       "0.3302554202554202"
      ]
     },
     "execution_count": 40,
     "metadata": {},
     "output_type": "execute_result"
    }
   ],
   "source": [
    "avg_accuracy_score_svc = sum(kfold_accuracy_scores_lin_svc) / 5\n",
    "avg_accuracy_score_svc"
   ]
  },
  {
   "cell_type": "markdown",
   "id": "ordinary-significance",
   "metadata": {},
   "source": [
    "##### SVC with kernel = rbf"
   ]
  },
  {
   "cell_type": "code",
   "execution_count": 41,
   "id": "dominican-enhancement",
   "metadata": {},
   "outputs": [],
   "source": [
    "clf = SVC(kernel = \"rbf\")"
   ]
  },
  {
   "cell_type": "code",
   "execution_count": 42,
   "id": "presidential-florence",
   "metadata": {},
   "outputs": [
    {
     "data": {
      "text/plain": [
       "SVC()"
      ]
     },
     "execution_count": 42,
     "metadata": {},
     "output_type": "execute_result"
    }
   ],
   "source": [
    "clf.fit(X_train, y_train)"
   ]
  },
  {
   "cell_type": "code",
   "execution_count": 43,
   "id": "comfortable-checklist",
   "metadata": {},
   "outputs": [],
   "source": [
    "y_predict = clf.predict(X_test)"
   ]
  },
  {
   "cell_type": "code",
   "execution_count": 44,
   "id": "attached-shooting",
   "metadata": {},
   "outputs": [
    {
     "name": "stdout",
     "output_type": "stream",
     "text": [
      "              precision    recall  f1-score   support\n",
      "\n",
      "           0       0.13      0.06      0.08       120\n",
      "           1       0.25      0.31      0.28       103\n",
      "           2       0.10      0.16      0.13       100\n",
      "           3       0.21      0.19      0.20       109\n",
      "\n",
      "    accuracy                           0.18       432\n",
      "   macro avg       0.18      0.18      0.17       432\n",
      "weighted avg       0.17      0.18      0.17       432\n",
      "\n"
     ]
    }
   ],
   "source": [
    "print(classification_report(y_test,y_predict))"
   ]
  },
  {
   "cell_type": "code",
   "execution_count": 45,
   "id": "weird-attack",
   "metadata": {},
   "outputs": [
    {
     "data": {
      "text/plain": [
       "array([0.23461538, 0.18532819, 0.22393822, 0.25868726, 0.26640927])"
      ]
     },
     "execution_count": 45,
     "metadata": {},
     "output_type": "execute_result"
    }
   ],
   "source": [
    "kfold_accuracy_scores_svc = cross_val_score(clf, X_train, y_train, scoring = \"accuracy\")\n",
    "kfold_accuracy_scores_svc"
   ]
  },
  {
   "cell_type": "code",
   "execution_count": 46,
   "id": "welcome-ocean",
   "metadata": {},
   "outputs": [
    {
     "data": {
      "text/plain": [
       "0.2337956637956638"
      ]
     },
     "execution_count": 46,
     "metadata": {},
     "output_type": "execute_result"
    }
   ],
   "source": [
    "avg_accuracy_score_svc = sum(kfold_accuracy_scores_svc) / 5\n",
    "avg_accuracy_score_svc"
   ]
  },
  {
   "cell_type": "markdown",
   "id": "inclusive-thousand",
   "metadata": {},
   "source": [
    "##### logistic regression"
   ]
  },
  {
   "cell_type": "code",
   "execution_count": 47,
   "id": "flush-advocate",
   "metadata": {},
   "outputs": [],
   "source": [
    "from sklearn.linear_model import LogisticRegression "
   ]
  },
  {
   "cell_type": "code",
   "execution_count": 48,
   "id": "dimensional-robinson",
   "metadata": {},
   "outputs": [],
   "source": [
    "clf = LogisticRegression(multi_class='multinomial', solver='lbfgs')"
   ]
  },
  {
   "cell_type": "code",
   "execution_count": 49,
   "id": "preceding-rough",
   "metadata": {},
   "outputs": [
    {
     "data": {
      "text/plain": [
       "LogisticRegression(multi_class='multinomial')"
      ]
     },
     "execution_count": 49,
     "metadata": {},
     "output_type": "execute_result"
    }
   ],
   "source": [
    "clf.fit(X_train, y_train)"
   ]
  },
  {
   "cell_type": "code",
   "execution_count": 50,
   "id": "frequent-architect",
   "metadata": {},
   "outputs": [],
   "source": [
    "y_predict = clf.predict(X_test)"
   ]
  },
  {
   "cell_type": "code",
   "execution_count": 51,
   "id": "lonely-turning",
   "metadata": {},
   "outputs": [
    {
     "name": "stdout",
     "output_type": "stream",
     "text": [
      "              precision    recall  f1-score   support\n",
      "\n",
      "           0       0.28      0.16      0.20       120\n",
      "           1       0.33      0.30      0.32       103\n",
      "           2       0.21      0.23      0.22       100\n",
      "           3       0.35      0.51      0.41       109\n",
      "\n",
      "    accuracy                           0.30       432\n",
      "   macro avg       0.29      0.30      0.29       432\n",
      "weighted avg       0.29      0.30      0.29       432\n",
      "\n"
     ]
    }
   ],
   "source": [
    "print(classification_report(y_test,y_predict))"
   ]
  },
  {
   "cell_type": "code",
   "execution_count": 52,
   "id": "bound-seminar",
   "metadata": {},
   "outputs": [
    {
     "data": {
      "text/plain": [
       "array([0.30769231, 0.24324324, 0.36679537, 0.35135135, 0.37065637])"
      ]
     },
     "execution_count": 52,
     "metadata": {},
     "output_type": "execute_result"
    }
   ],
   "source": [
    "kfold_accuracy_scores_lg = cross_val_score(clf, X_train, y_train, scoring = \"accuracy\")\n",
    "kfold_accuracy_scores_lg"
   ]
  },
  {
   "cell_type": "code",
   "execution_count": 53,
   "id": "working-musician",
   "metadata": {},
   "outputs": [
    {
     "data": {
      "text/plain": [
       "0.3279477279477279"
      ]
     },
     "execution_count": 53,
     "metadata": {},
     "output_type": "execute_result"
    }
   ],
   "source": [
    "avg_accuracy_score_lg = sum(kfold_accuracy_scores_lg) / 5\n",
    "avg_accuracy_score_lg"
   ]
  },
  {
   "cell_type": "markdown",
   "id": "neither-welsh",
   "metadata": {},
   "source": [
    "to use linear SVC for whole data training since it has the highest cross val score using accuracy metrics "
   ]
  },
  {
   "cell_type": "markdown",
   "id": "beneficial-cigarette",
   "metadata": {},
   "source": [
    "### Final model training - w all the data "
   ]
  },
  {
   "cell_type": "code",
   "execution_count": 54,
   "id": "victorian-centre",
   "metadata": {},
   "outputs": [],
   "source": [
    "lin_clf = LinearSVC()"
   ]
  },
  {
   "cell_type": "code",
   "execution_count": 55,
   "id": "vital-bradford",
   "metadata": {},
   "outputs": [
    {
     "data": {
      "text/plain": [
       "LinearSVC()"
      ]
     },
     "execution_count": 55,
     "metadata": {},
     "output_type": "execute_result"
    }
   ],
   "source": [
    "lin_clf.fit(X_numpy, y_numpy)"
   ]
  },
  {
   "cell_type": "markdown",
   "id": "growing-grove",
   "metadata": {},
   "source": [
    "### predict buying price given the following parameters \n",
    "- Maintenance = High, Number of doors = 4, Lug Boot Size = Big, Safety = High, Class Value = Good"
   ]
  },
  {
   "cell_type": "code",
   "execution_count": 56,
   "id": "secret-pepper",
   "metadata": {},
   "outputs": [
    {
     "data": {
      "text/plain": [
       "Index(['maint', 'doors', 'persons', 'lug_boot', 'safety', 'car_eval_domain'], dtype='object')"
      ]
     },
     "execution_count": 56,
     "metadata": {},
     "output_type": "execute_result"
    }
   ],
   "source": [
    "X_df.columns"
   ]
  },
  {
   "cell_type": "markdown",
   "id": "martial-joshua",
   "metadata": {},
   "source": [
    "As persons column is not given, using the car_eval_domain / class_value as a gauge to fill in this value.\n",
    "This is because:\n",
    "1. based on other columns relationships, it is difficult to use a more appropriate value for persons as the characteristics are the same for the different permutations of the column where as for car_eval_domain, we can use the number of persons that happen more frequently. \n",
    "2. Due to time constraints and data size limits, I did not do clustering. How i would do it:\n",
    "    - find the clusters in this given dataset without the y and persons column eg using kmeans, where k = 3, \n",
    "    - find the cluster that is most similar to this set of parameters\n",
    "    - based on the rows belonging to this cluster with the persons columns back, find the value of persons with the highest frequency and use that for the prediction\n"
   ]
  },
  {
   "cell_type": "code",
   "execution_count": 57,
   "id": "pressed-millennium",
   "metadata": {},
   "outputs": [
    {
     "data": {
      "text/plain": [
       "4       36\n",
       "more    33\n",
       "Name: persons, dtype: int64"
      ]
     },
     "execution_count": 57,
     "metadata": {},
     "output_type": "execute_result"
    }
   ],
   "source": [
    "data_df[data_df[\"car_eval_domain\"] == \"good\"][\"persons\"].value_counts()"
   ]
  },
  {
   "cell_type": "code",
   "execution_count": 58,
   "id": "favorite-christian",
   "metadata": {},
   "outputs": [],
   "source": [
    "# use person == 4 "
   ]
  },
  {
   "cell_type": "code",
   "execution_count": 59,
   "id": "foreign-miniature",
   "metadata": {},
   "outputs": [],
   "source": [
    "unknown_row = {\n",
    "    \"maint\": \"high\",\n",
    "    \"doors\": \"4\",\n",
    "    \"persons\": \"4\",\n",
    "    \"lug_boot\": \"big\",\n",
    "    \"safety\": \"high\",\n",
    "    \"car_eval_domain\": \"good\"\n",
    "}"
   ]
  },
  {
   "cell_type": "code",
   "execution_count": 60,
   "id": "ongoing-privacy",
   "metadata": {},
   "outputs": [
    {
     "data": {
      "text/plain": [
       "1728"
      ]
     },
     "execution_count": 60,
     "metadata": {},
     "output_type": "execute_result"
    }
   ],
   "source": [
    "len(X_df)"
   ]
  },
  {
   "cell_type": "code",
   "execution_count": 61,
   "id": "worst-voluntary",
   "metadata": {},
   "outputs": [],
   "source": [
    "unknown_row_df = pd.DataFrame(unknown_row, index = [len(X_df)] )"
   ]
  },
  {
   "cell_type": "code",
   "execution_count": 62,
   "id": "coral-summary",
   "metadata": {},
   "outputs": [],
   "source": [
    "new_X_df = pd.concat([X_df, unknown_row_df], axis = 0)"
   ]
  },
  {
   "cell_type": "code",
   "execution_count": 63,
   "id": "right-creation",
   "metadata": {},
   "outputs": [],
   "source": [
    "final_new_X_df = pd.get_dummies(new_X_df)"
   ]
  },
  {
   "cell_type": "code",
   "execution_count": 64,
   "id": "raised-presence",
   "metadata": {},
   "outputs": [],
   "source": [
    "unknown_row_vector = final_new_X_df.loc[1728].to_numpy()"
   ]
  },
  {
   "cell_type": "code",
   "execution_count": 65,
   "id": "productive-evanescence",
   "metadata": {},
   "outputs": [
    {
     "data": {
      "text/plain": [
       "(21,)"
      ]
     },
     "execution_count": 65,
     "metadata": {},
     "output_type": "execute_result"
    }
   ],
   "source": [
    "unknown_row_vector.shape"
   ]
  },
  {
   "cell_type": "code",
   "execution_count": 66,
   "id": "front-image",
   "metadata": {},
   "outputs": [
    {
     "data": {
      "text/plain": [
       "array([1, 0, 0, 0, 0, 0, 1, 0, 0, 1, 0, 1, 0, 0, 1, 0, 0, 0, 1, 0, 0],\n",
       "      dtype=uint8)"
      ]
     },
     "execution_count": 66,
     "metadata": {},
     "output_type": "execute_result"
    }
   ],
   "source": [
    "unknown_row_vector"
   ]
  },
  {
   "cell_type": "code",
   "execution_count": 67,
   "id": "above-latex",
   "metadata": {},
   "outputs": [
    {
     "data": {
      "text/plain": [
       "array([1])"
      ]
     },
     "execution_count": 67,
     "metadata": {},
     "output_type": "execute_result"
    }
   ],
   "source": [
    "lin_clf.predict(unknown_row_vector.reshape(1, -1))"
   ]
  },
  {
   "cell_type": "code",
   "execution_count": 68,
   "id": "marine-british",
   "metadata": {},
   "outputs": [
    {
     "data": {
      "text/plain": [
       "'low'"
      ]
     },
     "execution_count": 68,
     "metadata": {},
     "output_type": "execute_result"
    }
   ],
   "source": [
    "le.classes_[1]"
   ]
  },
  {
   "cell_type": "markdown",
   "id": "underlying-giving",
   "metadata": {},
   "source": [
    "Given these set of parameters and using persons = \"4\", my model predict the buying price as \"low\""
   ]
  },
  {
   "cell_type": "code",
   "execution_count": null,
   "id": "acquired-museum",
   "metadata": {},
   "outputs": [],
   "source": []
  }
 ],
 "metadata": {
  "kernelspec": {
   "display_name": "Python 3",
   "language": "python",
   "name": "python3"
  },
  "language_info": {
   "codemirror_mode": {
    "name": "ipython",
    "version": 3
   },
   "file_extension": ".py",
   "mimetype": "text/x-python",
   "name": "python",
   "nbconvert_exporter": "python",
   "pygments_lexer": "ipython3",
   "version": "3.6.9"
  }
 },
 "nbformat": 4,
 "nbformat_minor": 5
}
